{
 "cells": [
  {
   "cell_type": "code",
   "execution_count": 1,
   "id": "0f074880",
   "metadata": {},
   "outputs": [
    {
     "name": "stdout",
     "output_type": "stream",
     "text": [
      "(321, 142) 142\n"
     ]
    }
   ],
   "source": [
    "from data_wrangle import wrangle_from_excel\n",
    "df = wrangle_from_excel(\"Respuestas Playbook ESP.xlsx\")\n",
    "print(df.shape, len(df.columns))"
   ]
  },
  {
   "cell_type": "code",
   "execution_count": 4,
   "id": "14102ee2",
   "metadata": {},
   "outputs": [],
   "source": [
    "set_1 = set(df.columns)"
   ]
  },
  {
   "cell_type": "code",
   "execution_count": 5,
   "id": "36b0c97d",
   "metadata": {},
   "outputs": [],
   "source": [
    "set_2 = {'En general, incluyendo fútbol masculino y femenino, ¿con qué frecuencia apuestas en eventos deportivos?',\n",
    " 'Marca temporal',\n",
    " 'actitud_marca_ff_apoyo',\n",
    " 'actitud_marca_ff_boicot',\n",
    " 'actitud_marca_ff_cat',\n",
    " 'actitud_marca_ff_no_cambia',\n",
    " 'actitud_marca_ff_ord',\n",
    " 'apuesta',\n",
    " 'apuestas_ord',\n",
    " 'asist_ord',\n",
    " 'campanas_deportistas_ord',\n",
    " 'canal__app_deportiva',\n",
    " 'canal__estadio',\n",
    " 'canal__indiferente',\n",
    " 'canal__no_en_vivo',\n",
    " 'canal__radio',\n",
    " 'canal__redes_sociales',\n",
    " 'canal__streaming',\n",
    " 'canal__tv_abierta',\n",
    " 'canal__tv_cable',\n",
    " 'canal__youtube',\n",
    " 'compra_influenciada',\n",
    " 'compra_patrocinio_cat',\n",
    " 'conoce_liga_pais',\n",
    " 'conoce_ligas_ord',\n",
    " 'cont__contenido_club',\n",
    " 'cont__contenido_creado_por_usuarios',\n",
    " 'cont__contenido_fans',\n",
    " 'cont__contenido_marca_patrocinado',\n",
    " 'cont__creadoras_contenido',\n",
    " 'cont__detras_camaras',\n",
    " 'cont__entrevistas',\n",
    " 'cont__estadisticas_analisis',\n",
    " 'cont__no_aplica',\n",
    " 'cont__noticieros_independientes',\n",
    " 'cont__noticieros_profesionales',\n",
    " 'cont__resumenes_highlights',\n",
    " 'crecimiento_5y_no_seguro',\n",
    " 'crecimiento_5y_ord',\n",
    " 'desafio_aficion_no_crece',\n",
    " 'desafio_baja_calidad_juego',\n",
    " 'desafio_bajos_salarios',\n",
    " 'desafio_estereotipos_genero',\n",
    " 'desafio_estigma_social',\n",
    " 'desafio_falta_cobertura_mediatica',\n",
    " 'desafio_falta_espacios',\n",
    " 'desafio_poca_independencia',\n",
    " 'desafio_poca_inversion',\n",
    " 'desafio_pocas_oportunidades_jovenes',\n",
    " 'desafio_promocion_debil',\n",
    " 'freq_cat',\n",
    " 'freq_ord',\n",
    " 'ha_asistido',\n",
    " 'importancia_marcas',\n",
    " 'importancia_marcas_cat',\n",
    " 'inversion_igual_cat',\n",
    " 'inversion_igual_no',\n",
    " 'inversion_igual_no_seguro',\n",
    " 'inversion_igual_ord',\n",
    " 'inversion_igual_si',\n",
    " 'motiv_apoyar_cat',\n",
    " 'motiv_apoyar_score',\n",
    " 'need__clubes_profesionales',\n",
    " 'need__jugadoras_conocidas_historias',\n",
    " 'need__mas_contenido_atractivo',\n",
    " 'need__mas_difusion',\n",
    " 'need__mayor_asociacion_con_marcas',\n",
    " 'need__mayor_separacion_masculino',\n",
    " 'need__mejor_nivel',\n",
    " 'need__nada',\n",
    " 'need__recomendacion_influencer',\n",
    " 'no_ves__nivel_competitivo',\n",
    " 'no_ves__no_identificacion',\n",
    " 'no_ves__no_interesa_en_general',\n",
    " 'no_ves__no_se_donde_ver',\n",
    " 'no_ves__no_tiempo',\n",
    " 'no_ves__nunca_lo_plantee',\n",
    " 'no_ves__otro',\n",
    " 'no_ves__prefiere_masculino',\n",
    " 'non_fan',\n",
    " 'percep_patrocinio_ord',\n",
    " 'percepcion_ff_ord',\n",
    " 'percepcion_ff_sin_opinion',\n",
    " 'rel_atleta_amateur',\n",
    " 'rel_atleta_profesional',\n",
    " 'rel_fanatico',\n",
    " 'rel_no_activo',\n",
    " 'rel_trabajo_industria',\n",
    " 'rs__facebook',\n",
    " 'rs__instagram',\n",
    " 'rs__no_aplica',\n",
    " 'rs__no_redes',\n",
    " 'rs__tiktok',\n",
    " 'rs__twitter_x',\n",
    " 'rs__youtube',\n",
    " 'sabia_liga_cat',\n",
    " 'sigue_equipos',\n",
    " 'sigue_jugadoras',\n",
    " 'valor__empoderamiento',\n",
    " 'valor__esfuerzo',\n",
    " 'valor__igualdad',\n",
    " 'valor__liderazgo',\n",
    " 'valor__pasion',\n",
    " 'valor__profesionalismo',\n",
    " 'valor__resiliencia',\n",
    " 'valor__superacion',\n",
    " 'valor__trabajo_equipo',\n",
    " 'vio_contenido_ultimo_anio_ord',\n",
    " '¿A través de qué canales sigues los partidos de fútbol femenino en vivo? (Selecciona todos los que apliquen)',\n",
    " '¿Apoyarías o boicotearías una marca según su apoyo al fútbol femenino?',\n",
    " '¿Con qué frecuencia apuestas en eventos deportivos?',\n",
    " '¿Con qué frecuencia apuestas en otro tipo de eventos o juegos no deportivos?',\n",
    " '¿Con qué frecuencia ves fútbol femenino?',\n",
    " '¿Conoces alguna liga o torneo de fútbol femenino?',\n",
    " '¿Crees que el fútbol femenino debería recibir la misma inversión comercial que el masculino?',\n",
    " '¿Crees que las marcas deberían invertir más en el fútbol femenino?',\n",
    " '¿Cuál de estas frases se acerca más a tu opinión sobre el fútbol femenino?',\n",
    " '¿Cuál es el mayor desafío que enfrenta el fútbol femenino en tu país? (Selecciona los 2 principales)',\n",
    " '¿Cuál es tu identidad de género?',\n",
    " '¿Cuál es tu rango de edad?',\n",
    " '¿Cuál es tu relación con el deporte? (Elige todas las que apliquen)',\n",
    " '¿Cómo cambia tu percepción de una marca al verla patrocinando fútbol femenino?',\n",
    " '¿Cómo crees que crecerá el fútbol femenino en tu país en los próximos 5 años?',\n",
    " '¿Cómo percibes el fútbol femenino actualmente, en general?',\n",
    " '¿En qué país resides?',\n",
    " '¿En qué redes sociales sigues contenido de fútbol femenino? (Selecciona todas las que apliquen)',\n",
    " '¿Has asistido alguna vez a un partido de fútbol femenino en vivo?',\n",
    " '¿Has comprado un producto o usado un servicio porque patrocinaba un equipo o atleta de deportes femeninos?',\n",
    " '¿Has visto algún contenido (video, noticia, post) sobre fútbol femenino en el último año?',\n",
    " '¿Por qué no ves fútbol femenino actualmente? (Selecciona todas las opciones que apliquen)',\n",
    " '¿Qué ligas o campeonatos de fútbol femenino sigues activamente? (Selecciona todas las que apliquen)',\n",
    " '¿Qué marcas asocias con el fútbol femenino? (Menciona al menos una marca que venga a tu mente cuando piensas en fútbol femenino; escribe NA si no logras pensar en una)',\n",
    " '¿Qué necesitaría el fútbol femenino para que tú te interesaras más en verlo? (Selecciona todas las opciones que apliquen)',\n",
    " '¿Qué sientes cuando las marcas usan a deportistas femeninas en sus campañas o anuncios?',\n",
    " '¿Qué tan importante es para ti que las marcas apoyen el deporte femenino?',\n",
    " '¿Qué tipo de contenido consumes más? (Selecciona todas las que apliquen)',\n",
    " '¿Qué valores asocias con el fútbol femenino? (Selecciona al menos 2)',\n",
    " '¿Reconoces alguna(s) marca(s) que apoye(n) o patrocine(n) el fútbol femenino? Si sí, menciona todas las que asocies con fútbol femenino. Si no, escribe No aplica.',\n",
    " '¿Sabías que tu país tiene una liga profesional de fútbol femenino?',\n",
    " '¿Sigues a equipos o jugadoras específicas en el fútbol femenino?',\n",
    " '¿Te gustaría participar en la rifa de un PREMIO? (Toma 1 minuto más y tu participación es completamente anónima).1',\n",
    " '¿Te interesaría ver un partido si:…? (elige los escenarios que te llamarían la atención)',\n",
    " '¿Te motivaría más apoyar a un equipo si tuviera y apoyara una sección femenina?'}"
   ]
  },
  {
   "cell_type": "code",
   "execution_count": 7,
   "id": "bdbbca31",
   "metadata": {},
   "outputs": [
    {
     "data": {
      "text/plain": [
       "{'cont__contenido_creado_por_usuarios'}"
      ]
     },
     "execution_count": 7,
     "metadata": {},
     "output_type": "execute_result"
    }
   ],
   "source": [
    "set_2 - set_1"
   ]
  },
  {
   "cell_type": "code",
   "execution_count": 8,
   "id": "5560fdf2",
   "metadata": {},
   "outputs": [
    {
     "data": {
      "text/plain": [
       "143"
      ]
     },
     "execution_count": 8,
     "metadata": {},
     "output_type": "execute_result"
    }
   ],
   "source": [
    "len(set_2)"
   ]
  },
  {
   "cell_type": "code",
   "execution_count": 9,
   "id": "bfac03ad",
   "metadata": {},
   "outputs": [
    {
     "data": {
      "text/plain": [
       "142"
      ]
     },
     "execution_count": 9,
     "metadata": {},
     "output_type": "execute_result"
    }
   ],
   "source": [
    "len(set_1)"
   ]
  },
  {
   "cell_type": "code",
   "execution_count": null,
   "id": "6a313435",
   "metadata": {},
   "outputs": [],
   "source": []
  }
 ],
 "metadata": {
  "kernelspec": {
   "display_name": "uber_atd_case",
   "language": "python",
   "name": "python3"
  },
  "language_info": {
   "codemirror_mode": {
    "name": "ipython",
    "version": 3
   },
   "file_extension": ".py",
   "mimetype": "text/x-python",
   "name": "python",
   "nbconvert_exporter": "python",
   "pygments_lexer": "ipython3",
   "version": "3.13.3"
  }
 },
 "nbformat": 4,
 "nbformat_minor": 5
}
